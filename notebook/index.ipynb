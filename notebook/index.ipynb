{
 "cells": [
  {
   "cell_type": "code",
   "execution_count": 1,
   "metadata": {},
   "outputs": [
    {
     "name": "stdout",
     "output_type": "stream",
     "text": [
      "Collecting google-api-python-client\n",
      "\u001b[?25l  Downloading https://files.pythonhosted.org/packages/84/eb/b3c5bf283a0afcafa048c1810774e451f0614d3755c6d4e56b12d723cad2/google_api_python_client-2.38.0-py2.py3-none-any.whl (8.2MB)\n",
      "\u001b[K    100% |████████████████████████████████| 8.2MB 1.8MB/s \n",
      "\u001b[?25hRequirement already up-to-date: google-auth-httplib2 in /Users/judy/anaconda3/lib/python3.7/site-packages (0.1.0)\n",
      "Collecting google-auth-oauthlib\n",
      "  Downloading https://files.pythonhosted.org/packages/77/62/be9811606c4163068e8e5076864356881d3456b5c192997dee4e9a23acd6/google_auth_oauthlib-0.5.0-py2.py3-none-any.whl\n",
      "Requirement already satisfied, skipping upgrade: google-api-core<3.0.0dev,>=1.21.0 in /Users/judy/anaconda3/lib/python3.7/site-packages (from google-api-python-client) (2.5.0)\n",
      "Requirement already satisfied, skipping upgrade: uritemplate<5,>=3.0.1 in /Users/judy/anaconda3/lib/python3.7/site-packages (from google-api-python-client) (4.1.1)\n",
      "Requirement already satisfied, skipping upgrade: google-auth<3.0.0dev,>=1.16.0 in /Users/judy/anaconda3/lib/python3.7/site-packages (from google-api-python-client) (2.6.0)\n",
      "Requirement already satisfied, skipping upgrade: httplib2<1dev,>=0.15.0 in /Users/judy/anaconda3/lib/python3.7/site-packages (from google-api-python-client) (0.20.4)\n",
      "Requirement already satisfied, skipping upgrade: six in /Users/judy/anaconda3/lib/python3.7/site-packages (from google-auth-httplib2) (1.12.0)\n",
      "Requirement already satisfied, skipping upgrade: requests-oauthlib>=0.7.0 in /Users/judy/anaconda3/lib/python3.7/site-packages (from google-auth-oauthlib) (1.3.0)\n",
      "Requirement already satisfied, skipping upgrade: requests<3.0.0dev,>=2.18.0 in /Users/judy/anaconda3/lib/python3.7/site-packages (from google-api-core<3.0.0dev,>=1.21.0->google-api-python-client) (2.21.0)\n",
      "Requirement already satisfied, skipping upgrade: protobuf>=3.12.0 in /Users/judy/anaconda3/lib/python3.7/site-packages (from google-api-core<3.0.0dev,>=1.21.0->google-api-python-client) (3.19.4)\n",
      "Requirement already satisfied, skipping upgrade: googleapis-common-protos<2.0dev,>=1.52.0 in /Users/judy/anaconda3/lib/python3.7/site-packages (from google-api-core<3.0.0dev,>=1.21.0->google-api-python-client) (1.54.0)\n",
      "Requirement already satisfied, skipping upgrade: cachetools<6.0,>=2.0.0 in /Users/judy/anaconda3/lib/python3.7/site-packages (from google-auth<3.0.0dev,>=1.16.0->google-api-python-client) (5.0.0)\n",
      "Requirement already satisfied, skipping upgrade: rsa<5,>=3.1.4; python_version >= \"3.6\" in /Users/judy/anaconda3/lib/python3.7/site-packages (from google-auth<3.0.0dev,>=1.16.0->google-api-python-client) (4.8)\n",
      "Requirement already satisfied, skipping upgrade: pyasn1-modules>=0.2.1 in /Users/judy/anaconda3/lib/python3.7/site-packages (from google-auth<3.0.0dev,>=1.16.0->google-api-python-client) (0.2.8)\n",
      "Requirement already satisfied, skipping upgrade: pyparsing!=3.0.0,!=3.0.1,!=3.0.2,!=3.0.3,<4,>=2.4.2; python_version > \"3.0\" in /Users/judy/anaconda3/lib/python3.7/site-packages (from httplib2<1dev,>=0.15.0->google-api-python-client) (3.0.7)\n",
      "Requirement already satisfied, skipping upgrade: oauthlib>=3.0.0 in /Users/judy/anaconda3/lib/python3.7/site-packages (from requests-oauthlib>=0.7.0->google-auth-oauthlib) (3.1.0)\n",
      "Requirement already satisfied, skipping upgrade: urllib3<1.25,>=1.21.1 in /Users/judy/anaconda3/lib/python3.7/site-packages (from requests<3.0.0dev,>=2.18.0->google-api-core<3.0.0dev,>=1.21.0->google-api-python-client) (1.24.1)\n",
      "Requirement already satisfied, skipping upgrade: idna<2.9,>=2.5 in /Users/judy/anaconda3/lib/python3.7/site-packages (from requests<3.0.0dev,>=2.18.0->google-api-core<3.0.0dev,>=1.21.0->google-api-python-client) (2.8)\n",
      "Requirement already satisfied, skipping upgrade: certifi>=2017.4.17 in /Users/judy/anaconda3/lib/python3.7/site-packages (from requests<3.0.0dev,>=2.18.0->google-api-core<3.0.0dev,>=1.21.0->google-api-python-client) (2020.4.5.1)\n",
      "Requirement already satisfied, skipping upgrade: chardet<3.1.0,>=3.0.2 in /Users/judy/anaconda3/lib/python3.7/site-packages (from requests<3.0.0dev,>=2.18.0->google-api-core<3.0.0dev,>=1.21.0->google-api-python-client) (3.0.4)\n",
      "Requirement already satisfied, skipping upgrade: pyasn1>=0.1.3 in /Users/judy/anaconda3/lib/python3.7/site-packages (from rsa<5,>=3.1.4; python_version >= \"3.6\"->google-auth<3.0.0dev,>=1.16.0->google-api-python-client) (0.4.8)\n",
      "Installing collected packages: google-api-python-client, google-auth-oauthlib\n",
      "  Found existing installation: google-api-python-client 2.37.0\n",
      "    Uninstalling google-api-python-client-2.37.0:\n",
      "      Successfully uninstalled google-api-python-client-2.37.0\n",
      "  Found existing installation: google-auth-oauthlib 0.4.6\n",
      "    Uninstalling google-auth-oauthlib-0.4.6:\n",
      "      Successfully uninstalled google-auth-oauthlib-0.4.6\n",
      "Successfully installed google-api-python-client-2.38.0 google-auth-oauthlib-0.5.0\n"
     ]
    }
   ],
   "source": [
    "# !pip install --upgrade google-api-python-client google-auth-httplib2 google-auth-oauthlib"
   ]
  },
  {
   "cell_type": "code",
   "execution_count": 18,
   "metadata": {},
   "outputs": [
    {
     "name": "stdout",
     "output_type": "stream",
     "text": [
      "The title of the document is: test-docs\n"
     ]
    }
   ],
   "source": [
    "from __future__ import print_function\n",
    "\n",
    "import os.path\n",
    "\n",
    "from google.auth.transport.requests import Request\n",
    "from google.oauth2.credentials import Credentials\n",
    "from google_auth_oauthlib.flow import InstalledAppFlow\n",
    "from googleapiclient.discovery import build\n",
    "from googleapiclient.errors import HttpError\n",
    "\n",
    "# If modifying these scopes, delete the file token.json.\n",
    "SCOPES = ['https://www.googleapis.com/auth/documents']\n",
    "\n",
    "# The ID of a sample document.\n",
    "DOCUMENT_ID = '17ATelHc43gJMxFfq5CS8lri1b--Vb9A4DfXx8XDcu9Q'\n",
    "\n",
    "\n",
    "def main():\n",
    "    \"\"\"Shows basic usage of the Docs API.\n",
    "    Prints the title of a sample document.\n",
    "    \"\"\"\n",
    "    creds = None\n",
    "    # The file token.json stores the user's access and refresh tokens, and is\n",
    "    # created automatically when the authorization flow completes for the first\n",
    "    # time.\n",
    "    if os.path.exists('token.json'):\n",
    "        creds = Credentials.from_authorized_user_file('token.json', SCOPES)\n",
    "    # If there are no (valid) credentials available, let the user log in.\n",
    "    if not creds or not creds.valid:\n",
    "        if creds and creds.expired and creds.refresh_token:\n",
    "            creds.refresh(Request())\n",
    "        else:\n",
    "            flow = InstalledAppFlow.from_client_secrets_file(\n",
    "                'credentials.json', SCOPES)\n",
    "            creds = flow.run_local_server(port=4000)\n",
    "        # Save the credentials for the next run\n",
    "        with open('token.json', 'w') as token:\n",
    "            token.write(creds.to_json())\n",
    "\n",
    "    try:\n",
    "        service = build('docs', 'v1', credentials=creds)\n",
    "\n",
    "        # Retrieve the documents contents from the Docs service.\n",
    "        document = service.documents().get(documentId=DOCUMENT_ID).execute()\n",
    "\n",
    "        print('The title of the document is: {}'.format(document.get('title')))\n",
    "        return service\n",
    "    except HttpError as err:\n",
    "        print(err)\n",
    "\n",
    "def write_contents(service, text):\n",
    "    requests = [\n",
    "         {\n",
    "            'insertText': {\n",
    "                'location': {\n",
    "                    'index': 1,\n",
    "                },\n",
    "                'text': text\n",
    "            }\n",
    "        },\n",
    "    ]\n",
    "\n",
    "    result = service.documents().batchUpdate(\n",
    "    documentId=DOCUMENT_ID, body={'requests': requests}).execute()\n",
    "    \n",
    "        \n",
    "if __name__ == '__main__':\n",
    "    service = main()\n",
    "    \n",
    "    text = \"Such a nice day!\"\n",
    "    write_contents(service, text)\n",
    "    "
   ]
  },
  {
   "cell_type": "code",
   "execution_count": 23,
   "metadata": {},
   "outputs": [
    {
     "name": "stdout",
     "output_type": "stream",
     "text": [
      "Collecting google-cloud-translate==2.0.1\n",
      "\u001b[?25l  Downloading https://files.pythonhosted.org/packages/0c/f9/484dba1aa2e222c00884c36d323885abb3283dc4bfc6b75acc4fec1de77c/google_cloud_translate-2.0.1-py2.py3-none-any.whl (90kB)\n",
      "\u001b[K    100% |████████████████████████████████| 92kB 9.8MB/s \n",
      "\u001b[?25hCollecting google-api-core[grpc]<2.0.0dev,>=1.15.0 (from google-cloud-translate==2.0.1)\n",
      "\u001b[?25l  Downloading https://files.pythonhosted.org/packages/5f/7e/43c73760cd58a480eba5c80810c146a2c15532f12ab72c94d0cadeb85f88/google_api_core-1.31.5-py2.py3-none-any.whl (93kB)\n",
      "\u001b[K    100% |████████████████████████████████| 102kB 12.3MB/s \n",
      "\u001b[?25hCollecting google-cloud-core<2.0dev,>=1.1.0 (from google-cloud-translate==2.0.1)\n",
      "  Downloading https://files.pythonhosted.org/packages/f0/55/e8253cfd0b811cd0dc934a980c3842bfb8064944e363c1e6245f0c8a46c6/google_cloud_core-1.7.2-py2.py3-none-any.whl\n",
      "Requirement already satisfied: packaging>=14.3 in /Users/judy/anaconda3/lib/python3.7/site-packages (from google-api-core[grpc]<2.0.0dev,>=1.15.0->google-cloud-translate==2.0.1) (18.0)\n",
      "Requirement already satisfied: protobuf>=3.12.0; python_version > \"3\" in /Users/judy/anaconda3/lib/python3.7/site-packages (from google-api-core[grpc]<2.0.0dev,>=1.15.0->google-cloud-translate==2.0.1) (3.19.4)\n",
      "Requirement already satisfied: googleapis-common-protos<2.0dev,>=1.6.0 in /Users/judy/anaconda3/lib/python3.7/site-packages (from google-api-core[grpc]<2.0.0dev,>=1.15.0->google-cloud-translate==2.0.1) (1.54.0)\n",
      "Collecting google-auth<2.0dev,>=1.25.0 (from google-api-core[grpc]<2.0.0dev,>=1.15.0->google-cloud-translate==2.0.1)\n",
      "\u001b[?25l  Downloading https://files.pythonhosted.org/packages/fb/7a/1b3eb54caee1b8c73c2c3645f78a382eca4805a301a30c64a078e736e446/google_auth-1.35.0-py2.py3-none-any.whl (152kB)\n",
      "\u001b[K    100% |████████████████████████████████| 153kB 7.5MB/s \n",
      "\u001b[?25hRequirement already satisfied: requests<3.0.0dev,>=2.18.0 in /Users/judy/anaconda3/lib/python3.7/site-packages (from google-api-core[grpc]<2.0.0dev,>=1.15.0->google-cloud-translate==2.0.1) (2.21.0)\n",
      "Requirement already satisfied: setuptools>=40.3.0 in /Users/judy/anaconda3/lib/python3.7/site-packages (from google-api-core[grpc]<2.0.0dev,>=1.15.0->google-cloud-translate==2.0.1) (40.6.3)\n",
      "Collecting six>=1.13.0 (from google-api-core[grpc]<2.0.0dev,>=1.15.0->google-cloud-translate==2.0.1)\n",
      "  Using cached https://files.pythonhosted.org/packages/d9/5a/e7c31adbe875f2abbb91bd84cf2dc52d792b5a01506781dbcf25c91daf11/six-1.16.0-py2.py3-none-any.whl\n",
      "Requirement already satisfied: pytz in /Users/judy/anaconda3/lib/python3.7/site-packages (from google-api-core[grpc]<2.0.0dev,>=1.15.0->google-cloud-translate==2.0.1) (2018.7)\n",
      "Collecting grpcio<2.0dev,>=1.29.0; extra == \"grpc\" (from google-api-core[grpc]<2.0.0dev,>=1.15.0->google-cloud-translate==2.0.1)\n",
      "\u001b[?25l  Downloading https://files.pythonhosted.org/packages/f6/57/531faec65f86581e9ebd17ed0ff8818697a3aa7ed1a499f7b06c8dd0ef30/grpcio-1.44.0-cp37-cp37m-macosx_10_10_x86_64.whl (4.2MB)\n",
      "\u001b[K    100% |████████████████████████████████| 4.2MB 6.2MB/s \n",
      "\u001b[?25hRequirement already satisfied: pyparsing>=2.0.2 in /Users/judy/anaconda3/lib/python3.7/site-packages (from packaging>=14.3->google-api-core[grpc]<2.0.0dev,>=1.15.0->google-cloud-translate==2.0.1) (3.0.7)\n",
      "Requirement already satisfied: rsa<5,>=3.1.4; python_version >= \"3.6\" in /Users/judy/anaconda3/lib/python3.7/site-packages (from google-auth<2.0dev,>=1.25.0->google-api-core[grpc]<2.0.0dev,>=1.15.0->google-cloud-translate==2.0.1) (4.8)\n",
      "Requirement already satisfied: pyasn1-modules>=0.2.1 in /Users/judy/anaconda3/lib/python3.7/site-packages (from google-auth<2.0dev,>=1.25.0->google-api-core[grpc]<2.0.0dev,>=1.15.0->google-cloud-translate==2.0.1) (0.2.8)\n",
      "Collecting cachetools<5.0,>=2.0.0 (from google-auth<2.0dev,>=1.25.0->google-api-core[grpc]<2.0.0dev,>=1.15.0->google-cloud-translate==2.0.1)\n",
      "  Downloading https://files.pythonhosted.org/packages/ea/c1/4740af52db75e6dbdd57fc7e9478439815bbac549c1c05881be27d19a17d/cachetools-4.2.4-py3-none-any.whl\n",
      "Requirement already satisfied: urllib3<1.25,>=1.21.1 in /Users/judy/anaconda3/lib/python3.7/site-packages (from requests<3.0.0dev,>=2.18.0->google-api-core[grpc]<2.0.0dev,>=1.15.0->google-cloud-translate==2.0.1) (1.24.1)\n",
      "Requirement already satisfied: idna<2.9,>=2.5 in /Users/judy/anaconda3/lib/python3.7/site-packages (from requests<3.0.0dev,>=2.18.0->google-api-core[grpc]<2.0.0dev,>=1.15.0->google-cloud-translate==2.0.1) (2.8)\n",
      "Requirement already satisfied: certifi>=2017.4.17 in /Users/judy/anaconda3/lib/python3.7/site-packages (from requests<3.0.0dev,>=2.18.0->google-api-core[grpc]<2.0.0dev,>=1.15.0->google-cloud-translate==2.0.1) (2020.4.5.1)\n",
      "Requirement already satisfied: chardet<3.1.0,>=3.0.2 in /Users/judy/anaconda3/lib/python3.7/site-packages (from requests<3.0.0dev,>=2.18.0->google-api-core[grpc]<2.0.0dev,>=1.15.0->google-cloud-translate==2.0.1) (3.0.4)\n",
      "Requirement already satisfied: pyasn1>=0.1.3 in /Users/judy/anaconda3/lib/python3.7/site-packages (from rsa<5,>=3.1.4; python_version >= \"3.6\"->google-auth<2.0dev,>=1.25.0->google-api-core[grpc]<2.0.0dev,>=1.15.0->google-cloud-translate==2.0.1) (0.4.8)\n",
      "Installing collected packages: cachetools, six, google-auth, grpcio, google-api-core, google-cloud-core, google-cloud-translate\n",
      "  Found existing installation: cachetools 5.0.0\n",
      "    Uninstalling cachetools-5.0.0:\n",
      "      Successfully uninstalled cachetools-5.0.0\n",
      "  Found existing installation: six 1.12.0\n",
      "    Uninstalling six-1.12.0:\n",
      "      Successfully uninstalled six-1.12.0\n",
      "  Found existing installation: google-auth 2.6.0\n",
      "    Uninstalling google-auth-2.6.0:\n",
      "      Successfully uninstalled google-auth-2.6.0\n",
      "  Found existing installation: google-api-core 2.5.0\n",
      "    Uninstalling google-api-core-2.5.0:\n",
      "      Successfully uninstalled google-api-core-2.5.0\n",
      "Successfully installed cachetools-4.2.4 google-api-core-1.31.5 google-auth-1.35.0 google-cloud-core-1.7.2 google-cloud-translate-2.0.1 grpcio-1.44.0 six-1.16.0\n"
     ]
    }
   ],
   "source": [
    "# !pip install google-cloud-translate==2.0.1"
   ]
  },
  {
   "cell_type": "code",
   "execution_count": 19,
   "metadata": {},
   "outputs": [],
   "source": [
    "from google.cloud import translate_v2"
   ]
  },
  {
   "cell_type": "code",
   "execution_count": 20,
   "metadata": {},
   "outputs": [],
   "source": [
    "# !pip install --upgrade google-cloud-storage"
   ]
  },
  {
   "cell_type": "code",
   "execution_count": 30,
   "metadata": {},
   "outputs": [],
   "source": [
    "def implicit():\n",
    "    from google.cloud import storage\n",
    "\n",
    "    # If you don't specify credentials when constructing the client, the\n",
    "    # client library will look for credentials in the environment.\n",
    "    storage_client = storage.Client()\n",
    "\n",
    "    # Make an authenticated API request\n",
    "    buckets = list(storage_client.list_buckets())\n",
    "    print(buckets)"
   ]
  },
  {
   "cell_type": "code",
   "execution_count": 31,
   "metadata": {},
   "outputs": [
    {
     "name": "stdout",
     "output_type": "stream",
     "text": [
      "[<Bucket: translation-new>]\n"
     ]
    }
   ],
   "source": [
    "# 버킷 만들기\n",
    "implicit()"
   ]
  },
  {
   "cell_type": "code",
   "execution_count": 24,
   "metadata": {},
   "outputs": [],
   "source": [
    "!export GOOGLE_APPLICATION_CREDENTIALS=\"/Users/judy/Downloads/service-key.json\""
   ]
  },
  {
   "cell_type": "code",
   "execution_count": 27,
   "metadata": {},
   "outputs": [
    {
     "name": "stdout",
     "output_type": "stream",
     "text": [
      "env: GOOGLE_APPLICATION_CREDENTIALS=/Users/judy/Downloads/service-key.json\n"
     ]
    }
   ],
   "source": [
    "%env GOOGLE_APPLICATION_CREDENTIALS /Users/judy/Downloads/service-key.json"
   ]
  },
  {
   "cell_type": "code",
   "execution_count": 32,
   "metadata": {},
   "outputs": [],
   "source": [
    "def translate_text(target, text):\n",
    "    import six\n",
    "    from google.cloud import translate_v2 as translate\n",
    "\n",
    "    translate_client = translate.Client()\n",
    "\n",
    "    if isinstance(text, six.binary_type):\n",
    "        text = text.decode(\"utf-8\")\n",
    "\n",
    "    # Text can also be a sequence of strings, in which case this method\n",
    "    # will return a sequence of results for each text.\n",
    "    result = translate_client.translate(text, target_language=target)\n",
    "\n",
    "    print(u\"Text: {}\".format(result[\"input\"]))\n",
    "    print(u\"Translation: {}\".format(result[\"translatedText\"]))\n",
    "    print(u\"Detected source language: {}\".format(result[\"detectedSourceLanguage\"]))\n"
   ]
  },
  {
   "cell_type": "code",
   "execution_count": 33,
   "metadata": {},
   "outputs": [
    {
     "name": "stdout",
     "output_type": "stream",
     "text": [
      "Text: Today, I'm so thirsty\n",
      "Translation: 오늘은 너무 목이 말라\n",
      "Detected source language: en\n"
     ]
    }
   ],
   "source": [
    "data = translate_text('ko', \"Today, I'm so thirsty\")\n",
    "data"
   ]
  },
  {
   "cell_type": "code",
   "execution_count": 34,
   "metadata": {},
   "outputs": [],
   "source": [
    "data"
   ]
  },
  {
   "cell_type": "code",
   "execution_count": null,
   "metadata": {},
   "outputs": [],
   "source": []
  }
 ],
 "metadata": {
  "kernelspec": {
   "display_name": "Python 3",
   "language": "python",
   "name": "python3"
  },
  "language_info": {
   "codemirror_mode": {
    "name": "ipython",
    "version": 3
   },
   "file_extension": ".py",
   "mimetype": "text/x-python",
   "name": "python",
   "nbconvert_exporter": "python",
   "pygments_lexer": "ipython3",
   "version": "3.7.1"
  }
 },
 "nbformat": 4,
 "nbformat_minor": 2
}
