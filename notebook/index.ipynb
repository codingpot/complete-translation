{
 "cells": [
  {
   "cell_type": "code",
   "execution_count": null,
   "metadata": {},
   "outputs": [],
   "source": [
    "!pip install -Uqq google-api-python-client \n",
    "!pip install -Uqq google-auth-httplib2 \n",
    "!pip install -Uqq google-auth-oauthlib\n",
    "!pip install -Uqq google-cloud-storage\n",
    "!pip install google-cloud-translate==2.0.1"
   ]
  },
  {
   "cell_type": "code",
   "execution_count": null,
   "metadata": {},
   "outputs": [],
   "source": [
    "from __future__ import print_function\n",
    "\n",
    "import os.path\n",
    "\n",
    "from google.auth.transport.requests import Request\n",
    "from google.oauth2.credentials import Credentials\n",
    "from google_auth_oauthlib.flow import InstalledAppFlow\n",
    "from googleapiclient.discovery import build\n",
    "from googleapiclient.errors import HttpError\n",
    "from google.cloud import translate_v2"
   ]
  },
  {
   "cell_type": "code",
   "execution_count": 18,
   "metadata": {},
   "outputs": [
    {
     "name": "stdout",
     "output_type": "stream",
     "text": [
      "The title of the document is: test-docs\n"
     ]
    }
   ],
   "source": [
    "# If modifying these scopes, delete the file token.json.\n",
    "SCOPES = ['https://www.googleapis.com/auth/documents']\n",
    "\n",
    "# The ID of a sample document.\n",
    "DOCUMENT_ID = '17ATelHc43gJMxFfq5CS8lri1b--Vb9A4DfXx8XDcu9Q'\n",
    "\n",
    "\n",
    "def main():\n",
    "    \"\"\"Shows basic usage of the Docs API.\n",
    "    Prints the title of a sample document.\n",
    "    \"\"\"\n",
    "    creds = None\n",
    "    # The file token.json stores the user's access and refresh tokens, and is\n",
    "    # created automatically when the authorization flow completes for the first\n",
    "    # time.\n",
    "    if os.path.exists('token.json'):\n",
    "        creds = Credentials.from_authorized_user_file('token.json', SCOPES)\n",
    "    # If there are no (valid) credentials available, let the user log in.\n",
    "    if not creds or not creds.valid:\n",
    "        if creds and creds.expired and creds.refresh_token:\n",
    "            creds.refresh(Request())\n",
    "        else:\n",
    "            flow = InstalledAppFlow.from_client_secrets_file(\n",
    "                'credentials.json', SCOPES)\n",
    "            creds = flow.run_local_server(port=4000)\n",
    "        # Save the credentials for the next run\n",
    "        with open('token.json', 'w') as token:\n",
    "            token.write(creds.to_json())\n",
    "\n",
    "    try:\n",
    "        service = build('docs', 'v1', credentials=creds)\n",
    "\n",
    "        # Retrieve the documents contents from the Docs service.\n",
    "        document = service.documents().get(documentId=DOCUMENT_ID).execute()\n",
    "\n",
    "        print('The title of the document is: {}'.format(document.get('title')))\n",
    "        return service\n",
    "    except HttpError as err:\n",
    "        print(err)\n",
    "\n",
    "def write_contents(service, text):\n",
    "    requests = [\n",
    "         {\n",
    "            'insertText': {\n",
    "                'location': {\n",
    "                    'index': 1,\n",
    "                },\n",
    "                'text': text\n",
    "            }\n",
    "        },\n",
    "    ]\n",
    "\n",
    "    result = service.documents().batchUpdate(\n",
    "    documentId=DOCUMENT_ID, body={'requests': requests}).execute()\n",
    "    \n",
    "        \n",
    "if __name__ == '__main__':\n",
    "    service = main()\n",
    "    \n",
    "    text = \"Such a nice day!\"\n",
    "    write_contents(service, text)\n",
    "    "
   ]
  },
  {
   "cell_type": "code",
   "execution_count": 19,
   "metadata": {},
   "outputs": [],
   "source": [
    "G_TRANSLATE_CREDENTIAL_PATH=\"\"\n",
    "%env GOOGLE_APPLICATION_CREDENTIALS ${G_TRANSLATE_CREDENTIAL_PATH}"
   ]
  },
  {
   "cell_type": "code",
   "execution_count": 32,
   "metadata": {},
   "outputs": [],
   "source": [
    "def translate_text(target, text):\n",
    "    import six\n",
    "    from google.cloud import translate_v2 as translate\n",
    "\n",
    "    translate_client = translate.Client()\n",
    "\n",
    "    if isinstance(text, six.binary_type):\n",
    "        text = text.decode(\"utf-8\")\n",
    "\n",
    "    # Text can also be a sequence of strings, in which case this method\n",
    "    # will return a sequence of results for each text.\n",
    "    result = translate_client.translate(text, target_language=target)\n",
    "\n",
    "    print(u\"Text: {}\".format(result[\"input\"]))\n",
    "    print(u\"Translation: {}\".format(result[\"translatedText\"]))\n",
    "    print(u\"Detected source language: {}\".format(result[\"detectedSourceLanguage\"]))\n"
   ]
  },
  {
   "cell_type": "code",
   "execution_count": 33,
   "metadata": {},
   "outputs": [
    {
     "name": "stdout",
     "output_type": "stream",
     "text": [
      "Text: Today, I'm so thirsty\n",
      "Translation: 오늘은 너무 목이 말라\n",
      "Detected source language: en\n"
     ]
    }
   ],
   "source": [
    "data = translate_text('ko', \"Today, I'm so thirsty\")\n",
    "data"
   ]
  }
 ],
 "metadata": {
  "kernelspec": {
   "display_name": "Python 3",
   "language": "python",
   "name": "python3"
  },
  "language_info": {
   "codemirror_mode": {
    "name": "ipython",
    "version": 3
   },
   "file_extension": ".py",
   "mimetype": "text/x-python",
   "name": "python",
   "nbconvert_exporter": "python",
   "pygments_lexer": "ipython3",
   "version": "3.7.1"
  }
 },
 "nbformat": 4,
 "nbformat_minor": 2
}
